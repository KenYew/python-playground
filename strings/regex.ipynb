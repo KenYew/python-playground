{
 "cells": [
  {
   "cell_type": "markdown",
   "metadata": {},
   "source": [
    "---\n",
    "## 🟨 Amazon SDE Regex Question\n",
    "Find user with lowest latency from log file \"200,John,/home,60ms 200,Sarah,/log,13ms 500,Jack,/home,40ms\""
   ]
  },
  {
   "cell_type": "code",
   "execution_count": 1,
   "metadata": {},
   "outputs": [
    {
     "name": "stdout",
     "output_type": "stream",
     "text": [
      "Sarah 13\n",
      "Jack 40\n",
      "John 60\n"
     ]
    }
   ],
   "source": [
    "import re\n",
    "hashMap = {}\n",
    "result = []\n",
    "\n",
    "log = \"200,John,/home,60ms 200,Sarah,/log,13ms 500,Jack,/home,40ms \"\n",
    "regex = r'(?P<number>\\d+),(?P<name>\\w+),/(?P<directory>\\w+),(?P<latency>\\d+)ms\\s'\n",
    "tuples = re.findall(regex, log)\n",
    "\n",
    "for tuple in tuples:\n",
    "    (number, name, directory, latency) = tuple\n",
    "    if name not in hashMap: \n",
    "        hashMap[latency] = name\n",
    "\n",
    "sortedLatencies = sorted(hashMap.keys())\n",
    "for latency in sortedLatencies:\n",
    "    result.append(f'{hashMap[latency]} {latency}')\n",
    "\n",
    "print('\\n'.join(result))"
   ]
  },
  {
   "cell_type": "markdown",
   "metadata": {},
   "source": [
    "---\n",
    "## 🟨 [Baby Names (Google Regex Exercise)](https://developers.google.com/edu/python/exercises/baby-names)"
   ]
  },
  {
   "cell_type": "code",
   "execution_count": 2,
   "metadata": {},
   "outputs": [
    {
     "name": "stdout",
     "output_type": "stream",
     "text": [
      "1990\n",
      "Amanda 4\n",
      "Andrew 7\n",
      "Ashley 2\n",
      "Brittany 3\n",
      "Christopher 2\n",
      "Daniel 5\n",
      "David 6\n",
      "Elizabeth 9\n",
      "Emily 12\n",
      "James 8\n",
      "Jennifer 8\n",
      "Jessica 1\n",
      "John 12\n",
      "Joseph 10\n",
      "Joshua 4\n",
      "Justin 9\n",
      "Lauren 10\n",
      "Matthew 3\n",
      "Megan 11\n",
      "Michael 1\n",
      "Ryan 11\n",
      "Samantha 5\n",
      "Sarah 6\n",
      "Stephanie 7\n"
     ]
    }
   ],
   "source": [
    "import re\n",
    "log = \"\"\"\n",
    "<h3 align=\"center\">Popularity in 1990</h3>\n",
    "<p align=\"center\">\n",
    "<table width=\"48%\" border=\"1\" bordercolor=\"#aaabbb\"\n",
    " cellpadding=\"2\" cellspacing=\"0\" summary=\"Popularity for top 1000\">\n",
    "<tr align=\"center\" valign=\"bottom\">\n",
    "  <th scope=\"col\" width=\"12%\" bgcolor=\"#efefef\">Rank</th>\n",
    "  <th scope=\"col\" width=\"41%\" bgcolor=\"#99ccff\">Male name</th>\n",
    "<th scope=\"col\" bgcolor=\"pink\" width=\"41%\">Female name</th></tr>\n",
    "<tr align=\"right\"><td>1</td><td>Michael</td><td>Jessica</td>\n",
    "<tr align=\"right\"><td>2</td><td>Christopher</td><td>Ashley</td>\n",
    "<tr align=\"right\"><td>3</td><td>Matthew</td><td>Brittany</td>\n",
    "<tr align=\"right\"><td>4</td><td>Joshua</td><td>Amanda</td>\n",
    "<tr align=\"right\"><td>5</td><td>Daniel</td><td>Samantha</td>\n",
    "<tr align=\"right\"><td>6</td><td>David</td><td>Sarah</td>\n",
    "<tr align=\"right\"><td>7</td><td>Andrew</td><td>Stephanie</td>\n",
    "<tr align=\"right\"><td>8</td><td>James</td><td>Jennifer</td>\n",
    "<tr align=\"right\"><td>9</td><td>Justin</td><td>Elizabeth</td>\n",
    "<tr align=\"right\"><td>10</td><td>Joseph</td><td>Lauren</td>\n",
    "<tr align=\"right\"><td>11</td><td>Ryan</td><td>Megan</td>\n",
    "<tr align=\"right\"><td>12</td><td>John</td><td>Emily</td>\n",
    "\"\"\"\n",
    "def extractNames(log):\n",
    "  names = []\n",
    "  yearMatch = re.search(r'Popularity\\sin\\s(?P<year>\\d{4})', log)\n",
    "  if not yearMatch:\n",
    "    print(\"Invalid Input: Couldn't find the year!\")\n",
    "  year = yearMatch.group('year')\n",
    "  names.append(year)\n",
    "  tuples = re.findall(r'<tr align=\"right\"><td>(?P<rank>\\d+)</td><td>(?P<boyName>\\w+)</td><td>(?P<girlName>\\w+)</td>', log)\n",
    "\n",
    "  namesToRank = {}\n",
    "  for tuple in tuples:\n",
    "    (rank, boyName, girlName) = tuple\n",
    "    if boyName not in namesToRank: \n",
    "      namesToRank[boyName] = rank\n",
    "    if girlName not in namesToRank: \n",
    "      namesToRank[girlName] = rank\n",
    "\n",
    "  sortedNames = sorted(namesToRank.keys())\n",
    "  for name in sortedNames: \n",
    "    names.append(f'{name} {namesToRank[name]}')\n",
    "\n",
    "  return names\n",
    "\n",
    "def main():\n",
    "  print('\\n'.join(extractNames(log)))\n",
    "\n",
    "if __name__ == \"__main__\":\n",
    "  main()"
   ]
  }
 ],
 "metadata": {
  "interpreter": {
   "hash": "fb4569285eef3a3450cb62085a5b1e0da4bce0af555edc33dcf29baf3acc1368"
  },
  "kernelspec": {
   "display_name": "Python 3.10.4 64-bit",
   "language": "python",
   "name": "python3"
  },
  "language_info": {
   "codemirror_mode": {
    "name": "ipython",
    "version": 3
   },
   "file_extension": ".py",
   "mimetype": "text/x-python",
   "name": "python",
   "nbconvert_exporter": "python",
   "pygments_lexer": "ipython3",
   "version": "3.10.4"
  },
  "orig_nbformat": 4
 },
 "nbformat": 4,
 "nbformat_minor": 2
}
